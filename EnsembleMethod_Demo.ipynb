{
  "nbformat": 4,
  "nbformat_minor": 0,
  "metadata": {
    "colab": {
      "name": "EnsembleMethod-Demo.ipynb",
      "provenance": [],
      "mount_file_id": "1NS0qg13XYEOv2nVwm7YndD9Wd8wh-dxW",
      "authorship_tag": "ABX9TyOrB2GNCzsy9S4cvg9lYrwq",
      "include_colab_link": true
    },
    "kernelspec": {
      "name": "python3",
      "display_name": "Python 3"
    },
    "language_info": {
      "name": "python"
    }
  },
  "cells": [
    {
      "cell_type": "markdown",
      "metadata": {
        "id": "view-in-github",
        "colab_type": "text"
      },
      "source": [
        "<a href=\"https://colab.research.google.com/github/gear-patt/Machine-Learning-Templates/blob/main/EnsembleMethod_Demo.ipynb\" target=\"_parent\"><img src=\"https://colab.research.google.com/assets/colab-badge.svg\" alt=\"Open In Colab\"/></a>"
      ]
    },
    {
      "cell_type": "code",
      "source": [
        "import pandas as pd\n",
        "from sklearn.compose import make_column_transformer\n",
        "from sklearn.preprocessing import OneHotEncoder\n",
        "from sklearn.model_selection import train_test_split\n",
        "df = pd.read_csv('/content/drive/MyDrive/Datasets/KU ML datasets/01-census-income-all.csv')\n",
        "df.rename(columns={'captial-gain': 'capital-gain'},inplace=True)\n",
        "X = df[ ['age', 'edu num','capital-gain', 'marital status', 'occupation', 'sex',\n",
        "\n",
        "       'capital-loss', 'hours-per-week' ] ]\n",
        "y = df['label']\n",
        "X_train, X_test, y_train, y_test = train_test_split(X, y, test_size=0.2)\n",
        "transformer = make_column_transformer(\n",
        "    ( OneHotEncoder(), ['marital status', 'occupation', 'sex']),\n",
        "    remainder='passthrough')\n",
        "X_train_transformed = transformer.fit_transform(X_train)\n",
        "X_test_transformed = transformer.transform(X_test)"
      ],
      "metadata": {
        "id": "hioeWnQdUnNV"
      },
      "execution_count": 13,
      "outputs": []
    },
    {
      "cell_type": "markdown",
      "source": [
        "## Voting Classifier"
      ],
      "metadata": {
        "id": "zRN7bq3QUefi"
      }
    },
    {
      "cell_type": "markdown",
      "source": [
        "There are 2 kinds of voting, which are hard(base on number of votes) and soft(based on probability)"
      ],
      "metadata": {
        "id": "k-93_-I6U843"
      }
    },
    {
      "cell_type": "code",
      "source": [
        "from sklearn.ensemble import VotingClassifier"
      ],
      "metadata": {
        "id": "8h1_KwV6UhSh"
      },
      "execution_count": 14,
      "outputs": []
    },
    {
      "cell_type": "code",
      "source": [
        "from sklearn.tree import DecisionTreeClassifier\n",
        "from sklearn.neighbors import KNeighborsClassifier\n",
        "from sklearn.linear_model import LogisticRegression"
      ],
      "metadata": {
        "id": "dDTy9QA9VNUE"
      },
      "execution_count": 15,
      "outputs": []
    },
    {
      "cell_type": "markdown",
      "source": [
        "- decision_tree = {'max_depth': 10, 'max_leaf_nodes': 1000}\n",
        "- knn = {'n_neighbors': 45}\n",
        "- logistic_regression = {max_iter=5000, penalty='none'}"
      ],
      "metadata": {
        "id": "RZkSdSOqVsQH"
      }
    },
    {
      "cell_type": "code",
      "source": [
        "voting = VotingClassifier(\n",
        "      estimators=[\n",
        "                  ('knn', KNeighborsClassifier(n_neighbors=45)),\n",
        "                  ('tree', DecisionTreeClassifier(max_depth= 10, max_leaf_nodes= 1000)),\n",
        "                  ('log_reg', LogisticRegression(max_iter=5000, penalty='none'))\n",
        "      ]\n",
        ")"
      ],
      "metadata": {
        "id": "ul_YetHBVriH"
      },
      "execution_count": 16,
      "outputs": []
    },
    {
      "cell_type": "code",
      "source": [
        "voting.fit(X_train_transformed, y_train)"
      ],
      "metadata": {
        "colab": {
          "base_uri": "https://localhost:8080/"
        },
        "id": "D_ZMxRJoWu_7",
        "outputId": "91f4adc4-d64b-46a2-973f-7afa821626fd"
      },
      "execution_count": 17,
      "outputs": [
        {
          "output_type": "execute_result",
          "data": {
            "text/plain": [
              "VotingClassifier(estimators=[('knn', KNeighborsClassifier(n_neighbors=45)),\n",
              "                             ('tree',\n",
              "                              DecisionTreeClassifier(max_depth=10,\n",
              "                                                     max_leaf_nodes=1000)),\n",
              "                             ('log_reg',\n",
              "                              LogisticRegression(max_iter=5000,\n",
              "                                                 penalty='none'))])"
            ]
          },
          "metadata": {},
          "execution_count": 17
        }
      ]
    },
    {
      "cell_type": "code",
      "source": [
        "voting.score(X_train_transformed, y_train)"
      ],
      "metadata": {
        "colab": {
          "base_uri": "https://localhost:8080/"
        },
        "id": "02Tap60eWyHn",
        "outputId": "e430f274-38c9-438e-fcd5-de377c1cafd0"
      },
      "execution_count": 18,
      "outputs": [
        {
          "output_type": "execute_result",
          "data": {
            "text/plain": [
              "0.8694494919765567"
            ]
          },
          "metadata": {},
          "execution_count": 18
        }
      ]
    },
    {
      "cell_type": "code",
      "source": [
        "X_test_transformed = transformer.transform(X_test)"
      ],
      "metadata": {
        "id": "ss9euw0UXotk"
      },
      "execution_count": 19,
      "outputs": []
    },
    {
      "cell_type": "code",
      "source": [
        "voting.score(X_test_transformed, y_test)"
      ],
      "metadata": {
        "colab": {
          "base_uri": "https://localhost:8080/"
        },
        "id": "28Q4JzTCW9MS",
        "outputId": "609171a2-8dd2-4ec7-f0cd-7806928dbad2"
      },
      "execution_count": 20,
      "outputs": [
        {
          "output_type": "execute_result",
          "data": {
            "text/plain": [
              "0.8610912068789026"
            ]
          },
          "metadata": {},
          "execution_count": 20
        }
      ]
    },
    {
      "cell_type": "code",
      "source": [
        "voting.transform(X_test_transformed[:10])"
      ],
      "metadata": {
        "colab": {
          "base_uri": "https://localhost:8080/"
        },
        "id": "uPcNn5t9XVwM",
        "outputId": "6bee5fa4-e951-4477-d852-159f3b8a3cc1"
      },
      "execution_count": 21,
      "outputs": [
        {
          "output_type": "execute_result",
          "data": {
            "text/plain": [
              "array([[0, 0, 0],\n",
              "       [0, 0, 0],\n",
              "       [0, 0, 0],\n",
              "       [0, 1, 1],\n",
              "       [0, 0, 0],\n",
              "       [0, 0, 0],\n",
              "       [0, 0, 0],\n",
              "       [0, 0, 0],\n",
              "       [1, 0, 0],\n",
              "       [0, 0, 0]])"
            ]
          },
          "metadata": {},
          "execution_count": 21
        }
      ]
    },
    {
      "cell_type": "markdown",
      "source": [
        "## Bagging"
      ],
      "metadata": {
        "id": "z6G31-Ba2rak"
      }
    },
    {
      "cell_type": "code",
      "source": [
        "from sklearn.ensemble import BaggingClassifier"
      ],
      "metadata": {
        "id": "5cVtTuvRYY4I"
      },
      "execution_count": 22,
      "outputs": []
    },
    {
      "cell_type": "code",
      "source": [
        "bag = BaggingClassifier(DecisionTreeClassifier(max_depth=10),\n",
        "                        n_estimators=100, oob_score=True)"
      ],
      "metadata": {
        "id": "Vp7ihfstchMl"
      },
      "execution_count": 33,
      "outputs": []
    },
    {
      "cell_type": "code",
      "source": [
        "bag.fit(X_train_transformed, y_train)"
      ],
      "metadata": {
        "colab": {
          "base_uri": "https://localhost:8080/"
        },
        "id": "PqX16pKqdJHm",
        "outputId": "71c051b7-7743-4b35-8781-30e74c69a493"
      },
      "execution_count": 34,
      "outputs": [
        {
          "output_type": "execute_result",
          "data": {
            "text/plain": [
              "BaggingClassifier(base_estimator=DecisionTreeClassifier(max_depth=10),\n",
              "                  n_estimators=100, oob_score=True)"
            ]
          },
          "metadata": {},
          "execution_count": 34
        }
      ]
    },
    {
      "cell_type": "code",
      "source": [
        "bag.oob_score_ # average score of all estimators"
      ],
      "metadata": {
        "colab": {
          "base_uri": "https://localhost:8080/"
        },
        "id": "EfjpgOSLdOXA",
        "outputId": "4d3c5410-6223-445e-a9a7-531e2fc525a2"
      },
      "execution_count": 35,
      "outputs": [
        {
          "output_type": "execute_result",
          "data": {
            "text/plain": [
              "0.8612085071532772"
            ]
          },
          "metadata": {},
          "execution_count": 35
        }
      ]
    },
    {
      "cell_type": "code",
      "source": [
        "bag.score(X_train_transformed, y_train)"
      ],
      "metadata": {
        "colab": {
          "base_uri": "https://localhost:8080/"
        },
        "id": "QpZpjhUZdin-",
        "outputId": "d0d60422-14ac-418e-ac43-eeb46acc14d5"
      },
      "execution_count": 36,
      "outputs": [
        {
          "output_type": "execute_result",
          "data": {
            "text/plain": [
              "0.8723159214803061"
            ]
          },
          "metadata": {},
          "execution_count": 36
        }
      ]
    },
    {
      "cell_type": "code",
      "source": [
        "bag.score(X_test_transformed, y_test)"
      ],
      "metadata": {
        "colab": {
          "base_uri": "https://localhost:8080/"
        },
        "id": "p_rPjAq7d_qi",
        "outputId": "1ab33583-2f18-4254-fded-63885ccb9f0a"
      },
      "execution_count": 37,
      "outputs": [
        {
          "output_type": "execute_result",
          "data": {
            "text/plain": [
              "0.8627290408434845"
            ]
          },
          "metadata": {},
          "execution_count": 37
        }
      ]
    },
    {
      "cell_type": "code",
      "source": [
        "bag.estimators_"
      ],
      "metadata": {
        "colab": {
          "base_uri": "https://localhost:8080/"
        },
        "id": "p2y4qEVLeTwd",
        "outputId": "854d8b04-701c-41b6-b10d-7d28837dd175"
      },
      "execution_count": 38,
      "outputs": [
        {
          "output_type": "execute_result",
          "data": {
            "text/plain": [
              "[DecisionTreeClassifier(max_depth=10, random_state=1803170913),\n",
              " DecisionTreeClassifier(max_depth=10, random_state=729787743),\n",
              " DecisionTreeClassifier(max_depth=10, random_state=686141773),\n",
              " DecisionTreeClassifier(max_depth=10, random_state=1448149898),\n",
              " DecisionTreeClassifier(max_depth=10, random_state=356419332),\n",
              " DecisionTreeClassifier(max_depth=10, random_state=65127307),\n",
              " DecisionTreeClassifier(max_depth=10, random_state=951749019),\n",
              " DecisionTreeClassifier(max_depth=10, random_state=242989296),\n",
              " DecisionTreeClassifier(max_depth=10, random_state=1566035936),\n",
              " DecisionTreeClassifier(max_depth=10, random_state=1790548356),\n",
              " DecisionTreeClassifier(max_depth=10, random_state=1366865827),\n",
              " DecisionTreeClassifier(max_depth=10, random_state=1005243904),\n",
              " DecisionTreeClassifier(max_depth=10, random_state=1840406553),\n",
              " DecisionTreeClassifier(max_depth=10, random_state=1448413207),\n",
              " DecisionTreeClassifier(max_depth=10, random_state=417120720),\n",
              " DecisionTreeClassifier(max_depth=10, random_state=724898922),\n",
              " DecisionTreeClassifier(max_depth=10, random_state=165063468),\n",
              " DecisionTreeClassifier(max_depth=10, random_state=1749126438),\n",
              " DecisionTreeClassifier(max_depth=10, random_state=283110818),\n",
              " DecisionTreeClassifier(max_depth=10, random_state=1358332094),\n",
              " DecisionTreeClassifier(max_depth=10, random_state=2037149713),\n",
              " DecisionTreeClassifier(max_depth=10, random_state=1398495423),\n",
              " DecisionTreeClassifier(max_depth=10, random_state=1280795820),\n",
              " DecisionTreeClassifier(max_depth=10, random_state=604285371),\n",
              " DecisionTreeClassifier(max_depth=10, random_state=603597132),\n",
              " DecisionTreeClassifier(max_depth=10, random_state=2016522757),\n",
              " DecisionTreeClassifier(max_depth=10, random_state=2055927114),\n",
              " DecisionTreeClassifier(max_depth=10, random_state=618275412),\n",
              " DecisionTreeClassifier(max_depth=10, random_state=2135962491),\n",
              " DecisionTreeClassifier(max_depth=10, random_state=1100960291),\n",
              " DecisionTreeClassifier(max_depth=10, random_state=662592197),\n",
              " DecisionTreeClassifier(max_depth=10, random_state=1005644247),\n",
              " DecisionTreeClassifier(max_depth=10, random_state=1703287007),\n",
              " DecisionTreeClassifier(max_depth=10, random_state=1642869812),\n",
              " DecisionTreeClassifier(max_depth=10, random_state=1245272537),\n",
              " DecisionTreeClassifier(max_depth=10, random_state=616639357),\n",
              " DecisionTreeClassifier(max_depth=10, random_state=804062734),\n",
              " DecisionTreeClassifier(max_depth=10, random_state=56656233),\n",
              " DecisionTreeClassifier(max_depth=10, random_state=1563309505),\n",
              " DecisionTreeClassifier(max_depth=10, random_state=1986797209),\n",
              " DecisionTreeClassifier(max_depth=10, random_state=955622976),\n",
              " DecisionTreeClassifier(max_depth=10, random_state=1175553770),\n",
              " DecisionTreeClassifier(max_depth=10, random_state=306721241),\n",
              " DecisionTreeClassifier(max_depth=10, random_state=1515554183),\n",
              " DecisionTreeClassifier(max_depth=10, random_state=1573082147),\n",
              " DecisionTreeClassifier(max_depth=10, random_state=1701602110),\n",
              " DecisionTreeClassifier(max_depth=10, random_state=1533751906),\n",
              " DecisionTreeClassifier(max_depth=10, random_state=778880999),\n",
              " DecisionTreeClassifier(max_depth=10, random_state=1025020905),\n",
              " DecisionTreeClassifier(max_depth=10, random_state=1230110094),\n",
              " DecisionTreeClassifier(max_depth=10, random_state=257550529),\n",
              " DecisionTreeClassifier(max_depth=10, random_state=803735414),\n",
              " DecisionTreeClassifier(max_depth=10, random_state=352858251),\n",
              " DecisionTreeClassifier(max_depth=10, random_state=1071992554),\n",
              " DecisionTreeClassifier(max_depth=10, random_state=1441353844),\n",
              " DecisionTreeClassifier(max_depth=10, random_state=931079732),\n",
              " DecisionTreeClassifier(max_depth=10, random_state=658341713),\n",
              " DecisionTreeClassifier(max_depth=10, random_state=2055794780),\n",
              " DecisionTreeClassifier(max_depth=10, random_state=1264766251),\n",
              " DecisionTreeClassifier(max_depth=10, random_state=2142567169),\n",
              " DecisionTreeClassifier(max_depth=10, random_state=1328798229),\n",
              " DecisionTreeClassifier(max_depth=10, random_state=363318599),\n",
              " DecisionTreeClassifier(max_depth=10, random_state=146624333),\n",
              " DecisionTreeClassifier(max_depth=10, random_state=152692705),\n",
              " DecisionTreeClassifier(max_depth=10, random_state=622085701),\n",
              " DecisionTreeClassifier(max_depth=10, random_state=1171927587),\n",
              " DecisionTreeClassifier(max_depth=10, random_state=1980448411),\n",
              " DecisionTreeClassifier(max_depth=10, random_state=1342807067),\n",
              " DecisionTreeClassifier(max_depth=10, random_state=1254249922),\n",
              " DecisionTreeClassifier(max_depth=10, random_state=356461210),\n",
              " DecisionTreeClassifier(max_depth=10, random_state=80256677),\n",
              " DecisionTreeClassifier(max_depth=10, random_state=2012063177),\n",
              " DecisionTreeClassifier(max_depth=10, random_state=1945927406),\n",
              " DecisionTreeClassifier(max_depth=10, random_state=1029027889),\n",
              " DecisionTreeClassifier(max_depth=10, random_state=830939485),\n",
              " DecisionTreeClassifier(max_depth=10, random_state=1483645148),\n",
              " DecisionTreeClassifier(max_depth=10, random_state=699591162),\n",
              " DecisionTreeClassifier(max_depth=10, random_state=331001105),\n",
              " DecisionTreeClassifier(max_depth=10, random_state=1678465340),\n",
              " DecisionTreeClassifier(max_depth=10, random_state=1504904572),\n",
              " DecisionTreeClassifier(max_depth=10, random_state=827077796),\n",
              " DecisionTreeClassifier(max_depth=10, random_state=1675548216),\n",
              " DecisionTreeClassifier(max_depth=10, random_state=1847947277),\n",
              " DecisionTreeClassifier(max_depth=10, random_state=827081218),\n",
              " DecisionTreeClassifier(max_depth=10, random_state=915319273),\n",
              " DecisionTreeClassifier(max_depth=10, random_state=1091162925),\n",
              " DecisionTreeClassifier(max_depth=10, random_state=1725287817),\n",
              " DecisionTreeClassifier(max_depth=10, random_state=1975888084),\n",
              " DecisionTreeClassifier(max_depth=10, random_state=1865406406),\n",
              " DecisionTreeClassifier(max_depth=10, random_state=471578259),\n",
              " DecisionTreeClassifier(max_depth=10, random_state=749025784),\n",
              " DecisionTreeClassifier(max_depth=10, random_state=528255958),\n",
              " DecisionTreeClassifier(max_depth=10, random_state=1820452396),\n",
              " DecisionTreeClassifier(max_depth=10, random_state=769332658),\n",
              " DecisionTreeClassifier(max_depth=10, random_state=1598177289),\n",
              " DecisionTreeClassifier(max_depth=10, random_state=470600296),\n",
              " DecisionTreeClassifier(max_depth=10, random_state=750169506),\n",
              " DecisionTreeClassifier(max_depth=10, random_state=590552915),\n",
              " DecisionTreeClassifier(max_depth=10, random_state=1838802884),\n",
              " DecisionTreeClassifier(max_depth=10, random_state=623576946)]"
            ]
          },
          "metadata": {},
          "execution_count": 38
        }
      ]
    },
    {
      "cell_type": "markdown",
      "source": [
        "## Random Forest"
      ],
      "metadata": {
        "id": "mBINI368mHeG"
      }
    },
    {
      "cell_type": "code",
      "source": [
        "from sklearn.ensemble import RandomForestClassifier"
      ],
      "metadata": {
        "id": "HW0ofcoFehaE"
      },
      "execution_count": 39,
      "outputs": []
    },
    {
      "cell_type": "markdown",
      "source": [
        "You should tune the hyperparamters."
      ],
      "metadata": {
        "id": "xgiU84reomz5"
      }
    },
    {
      "cell_type": "code",
      "source": [
        "rf = RandomForestClassifier(n_estimators=1000, max_depth=5, oob_score=True)"
      ],
      "metadata": {
        "id": "IsIgrLoWmOZ7"
      },
      "execution_count": 47,
      "outputs": []
    },
    {
      "cell_type": "code",
      "source": [
        "rf.fit(X_train_transformed, y_train)"
      ],
      "metadata": {
        "colab": {
          "base_uri": "https://localhost:8080/"
        },
        "id": "qlzuV3IanVk0",
        "outputId": "546c40b6-e620-4eca-d4a2-ab803b594581"
      },
      "execution_count": 48,
      "outputs": [
        {
          "output_type": "execute_result",
          "data": {
            "text/plain": [
              "RandomForestClassifier(max_depth=5, n_estimators=1000, oob_score=True)"
            ]
          },
          "metadata": {},
          "execution_count": 48
        }
      ]
    },
    {
      "cell_type": "code",
      "source": [
        "rf.oob_score_"
      ],
      "metadata": {
        "colab": {
          "base_uri": "https://localhost:8080/"
        },
        "id": "QZUNLPJJn_dz",
        "outputId": "d6961a22-8432-4961-ffa3-faec7f06eaec"
      },
      "execution_count": 49,
      "outputs": [
        {
          "output_type": "execute_result",
          "data": {
            "text/plain": [
              "0.8506641414787705"
            ]
          },
          "metadata": {},
          "execution_count": 49
        }
      ]
    },
    {
      "cell_type": "code",
      "source": [
        "rf.score(X_train_transformed, y_train)"
      ],
      "metadata": {
        "colab": {
          "base_uri": "https://localhost:8080/"
        },
        "id": "qGV63aF_oD9W",
        "outputId": "06670ca6-8a99-4996-e91d-c85fab3e7096"
      },
      "execution_count": 50,
      "outputs": [
        {
          "output_type": "execute_result",
          "data": {
            "text/plain": [
              "0.8512271901312927"
            ]
          },
          "metadata": {},
          "execution_count": 50
        }
      ]
    },
    {
      "cell_type": "code",
      "source": [
        "rf.score(X_test_transformed, y_test)"
      ],
      "metadata": {
        "colab": {
          "base_uri": "https://localhost:8080/"
        },
        "id": "2EJpFUBRoJX_",
        "outputId": "d1eaeebe-dd52-42d6-abce-22bc77fe85cb"
      },
      "execution_count": 51,
      "outputs": [
        {
          "output_type": "execute_result",
          "data": {
            "text/plain": [
              "0.8479885351622479"
            ]
          },
          "metadata": {},
          "execution_count": 51
        }
      ]
    },
    {
      "cell_type": "markdown",
      "source": [
        "## AdaBoost"
      ],
      "metadata": {
        "id": "xRszVzBIsGhh"
      }
    },
    {
      "cell_type": "code",
      "source": [
        "from sklearn.ensemble import AdaBoostClassifier"
      ],
      "metadata": {
        "id": "-vbxytJ0oNC7"
      },
      "execution_count": 52,
      "outputs": []
    },
    {
      "cell_type": "code",
      "source": [
        "adaboost = AdaBoostClassifier(\n",
        "    DecisionTreeClassifier(max_depth=3),\n",
        "    n_estimators=50,\n",
        "    learning_rate=0.7\n",
        ")"
      ],
      "metadata": {
        "id": "DkVot9sGsvdU"
      },
      "execution_count": 93,
      "outputs": []
    },
    {
      "cell_type": "code",
      "source": [
        "adaboost.fit(X_train_transformed, y_train)"
      ],
      "metadata": {
        "colab": {
          "base_uri": "https://localhost:8080/"
        },
        "id": "vNzwza-lteUm",
        "outputId": "4d90863c-b261-470f-b1b4-30ec8ba355fb"
      },
      "execution_count": 94,
      "outputs": [
        {
          "output_type": "execute_result",
          "data": {
            "text/plain": [
              "AdaBoostClassifier(base_estimator=DecisionTreeClassifier(max_depth=3),\n",
              "                   learning_rate=0.7)"
            ]
          },
          "metadata": {},
          "execution_count": 94
        }
      ]
    },
    {
      "cell_type": "code",
      "source": [
        "adaboost.score(X_train_transformed, y_train)"
      ],
      "metadata": {
        "colab": {
          "base_uri": "https://localhost:8080/"
        },
        "id": "L_KeGM7wtiET",
        "outputId": "a4bd1a0c-9d9b-4362-b309-6f7dcb0879e1"
      },
      "execution_count": 95,
      "outputs": [
        {
          "output_type": "execute_result",
          "data": {
            "text/plain": [
              "0.875643027154301"
            ]
          },
          "metadata": {},
          "execution_count": 95
        }
      ]
    },
    {
      "cell_type": "code",
      "source": [
        "adaboost.estimator_errors_"
      ],
      "metadata": {
        "colab": {
          "base_uri": "https://localhost:8080/"
        },
        "id": "ml1YHStAto4J",
        "outputId": "5e5a95d7-a215-4346-8a43-98e207b1408c"
      },
      "execution_count": 96,
      "outputs": [
        {
          "output_type": "execute_result",
          "data": {
            "text/plain": [
              "array([0.1551199 , 0.35177064, 0.40138927, 0.42757052, 0.4723369 ,\n",
              "       0.47371178, 0.44667695, 0.48379725, 0.47583135, 0.47977931,\n",
              "       0.4776482 , 0.47748546, 0.4781689 , 0.47606415, 0.48727218,\n",
              "       0.49265825, 0.49633769, 0.49563011, 0.46558695, 0.48290334,\n",
              "       0.49698762, 0.49593189, 0.49756113, 0.48760543, 0.49061179,\n",
              "       0.49812064, 0.47990152, 0.49752233, 0.48899426, 0.4844982 ,\n",
              "       0.49562558, 0.49112848, 0.49321606, 0.49272025, 0.49556209,\n",
              "       0.49514808, 0.49600353, 0.49355967, 0.49383291, 0.49643937,\n",
              "       0.49928493, 0.48778828, 0.49178926, 0.48443403, 0.49295973,\n",
              "       0.49854637, 0.49899638, 0.49442573, 0.49881198, 0.4864673 ])"
            ]
          },
          "metadata": {},
          "execution_count": 96
        }
      ]
    },
    {
      "cell_type": "code",
      "source": [
        "adaboost.score(X_test_transformed, y_test)"
      ],
      "metadata": {
        "colab": {
          "base_uri": "https://localhost:8080/"
        },
        "id": "vsxpX5Hitusr",
        "outputId": "77777d64-f100-4977-b1e2-d97fec9a0069"
      },
      "execution_count": 97,
      "outputs": [
        {
          "output_type": "execute_result",
          "data": {
            "text/plain": [
              "0.8696898351929573"
            ]
          },
          "metadata": {},
          "execution_count": 97
        }
      ]
    },
    {
      "cell_type": "markdown",
      "source": [
        "Even if the hyperparameters are not tuned, the model performance is still better than others."
      ],
      "metadata": {
        "id": "hxZ4B47VvF79"
      }
    },
    {
      "cell_type": "markdown",
      "source": [
        "## Gradient Boosting"
      ],
      "metadata": {
        "id": "bdiuDk2oySnm"
      }
    },
    {
      "cell_type": "code",
      "source": [
        "from sklearn.ensemble import GradientBoostingClassifier"
      ],
      "metadata": {
        "id": "Brx2KjDvud02"
      },
      "execution_count": 99,
      "outputs": []
    },
    {
      "cell_type": "code",
      "source": [
        "gbst = GradientBoostingClassifier()"
      ],
      "metadata": {
        "id": "mogVDC4hzQQu"
      },
      "execution_count": 100,
      "outputs": []
    },
    {
      "cell_type": "code",
      "source": [
        "gbst.fit(X_train_transformed, y_train)"
      ],
      "metadata": {
        "colab": {
          "base_uri": "https://localhost:8080/"
        },
        "id": "S_lZ0Mc7za4w",
        "outputId": "771ab729-cc4e-4103-ef87-93692ffb26c8"
      },
      "execution_count": 101,
      "outputs": [
        {
          "output_type": "execute_result",
          "data": {
            "text/plain": [
              "GradientBoostingClassifier()"
            ]
          },
          "metadata": {},
          "execution_count": 101
        }
      ]
    },
    {
      "cell_type": "code",
      "source": [
        "gbst.score(X_train_transformed, y_train)"
      ],
      "metadata": {
        "colab": {
          "base_uri": "https://localhost:8080/"
        },
        "id": "SAt1lU2Wzd2e",
        "outputId": "76053f15-cd2c-4242-9250-f0bcdcdd4273"
      },
      "execution_count": 102,
      "outputs": [
        {
          "output_type": "execute_result",
          "data": {
            "text/plain": [
              "0.8685025465154966"
            ]
          },
          "metadata": {},
          "execution_count": 102
        }
      ]
    },
    {
      "cell_type": "code",
      "source": [
        "gbst.score(X_test_transformed, y_test)"
      ],
      "metadata": {
        "colab": {
          "base_uri": "https://localhost:8080/"
        },
        "id": "IqYhuwpnzlvf",
        "outputId": "35f313c0-5cc3-4734-c68e-b523c1889380"
      },
      "execution_count": 103,
      "outputs": [
        {
          "output_type": "execute_result",
          "data": {
            "text/plain": [
              "0.8679496366055891"
            ]
          },
          "metadata": {},
          "execution_count": 103
        }
      ]
    },
    {
      "cell_type": "markdown",
      "source": [
        "## Stacking"
      ],
      "metadata": {
        "id": "rsPXuolj2DC1"
      }
    },
    {
      "cell_type": "code",
      "source": [
        "from sklearn.ensemble import StackingClassifier"
      ],
      "metadata": {
        "id": "CQXje7rjzq0X"
      },
      "execution_count": 104,
      "outputs": []
    },
    {
      "cell_type": "code",
      "source": [
        "stacking = StackingClassifier(\n",
        "      estimators=[\n",
        "                  ('knn', KNeighborsClassifier(n_neighbors=45)),\n",
        "                  ('tree', DecisionTreeClassifier(max_depth= 10, max_leaf_nodes= 1000)),\n",
        "                  ('log_reg', LogisticRegression(max_iter=5000, penalty='none'))\n",
        "      ],\n",
        "      final_estimator=RandomForestClassifier(),\n",
        "      cv=5\n",
        ")"
      ],
      "metadata": {
        "id": "gtO9Vmp82Ia1"
      },
      "execution_count": 105,
      "outputs": []
    },
    {
      "cell_type": "code",
      "source": [
        "stacking.fit(X_train_transformed, y_train)"
      ],
      "metadata": {
        "colab": {
          "base_uri": "https://localhost:8080/"
        },
        "id": "bN9rmfbS2a-t",
        "outputId": "c4d14913-566c-4022-8daa-dd00e8bb9079"
      },
      "execution_count": 106,
      "outputs": [
        {
          "output_type": "execute_result",
          "data": {
            "text/plain": [
              "StackingClassifier(cv=5,\n",
              "                   estimators=[('knn', KNeighborsClassifier(n_neighbors=45)),\n",
              "                               ('tree',\n",
              "                                DecisionTreeClassifier(max_depth=10,\n",
              "                                                       max_leaf_nodes=1000)),\n",
              "                               ('log_reg',\n",
              "                                LogisticRegression(max_iter=5000,\n",
              "                                                   penalty='none'))],\n",
              "                   final_estimator=RandomForestClassifier())"
            ]
          },
          "metadata": {},
          "execution_count": 106
        }
      ]
    },
    {
      "cell_type": "code",
      "source": [
        "stacking.score(X_train_transformed, y_train)"
      ],
      "metadata": {
        "colab": {
          "base_uri": "https://localhost:8080/"
        },
        "id": "Mf_gj9cx2fIl",
        "outputId": "de58891f-238c-4419-c62a-3b41ca6a3799"
      },
      "execution_count": 107,
      "outputs": [
        {
          "output_type": "execute_result",
          "data": {
            "text/plain": [
              "0.8591354643871727"
            ]
          },
          "metadata": {},
          "execution_count": 107
        }
      ]
    },
    {
      "cell_type": "code",
      "source": [
        "stacking.score(X_test_transformed, y_test)"
      ],
      "metadata": {
        "colab": {
          "base_uri": "https://localhost:8080/"
        },
        "id": "flNtiKii2tZH",
        "outputId": "f0281079-947c-4b33-aa39-0b487a8e0303"
      },
      "execution_count": 108,
      "outputs": [
        {
          "output_type": "execute_result",
          "data": {
            "text/plain": [
              "0.8461459719520934"
            ]
          },
          "metadata": {},
          "execution_count": 108
        }
      ]
    },
    {
      "cell_type": "code",
      "source": [
        ""
      ],
      "metadata": {
        "id": "mAxQzyL925X3"
      },
      "execution_count": null,
      "outputs": []
    }
  ]
}